{
 "cells": [
  {
   "cell_type": "code",
   "execution_count": 44,
   "id": "5d76b236",
   "metadata": {},
   "outputs": [
    {
     "name": "stdout",
     "output_type": "stream",
     "text": [
      "The sum of Elements:  139\n",
      "The maximum number of the list is:  45\n",
      "The List starting with fifth element: [30, 2, 7, 10, 45]\n",
      "Even Numbers In List: [4, 30, 2, 10]\n"
     ]
    }
   ],
   "source": [
    "ListOfNumbers = [5, 4, 17, 19, 30, 2, 7, 10, 45]\n",
    "LengthOfList = len(ListOfNumbers)\n",
    "SumOfElements =0\n",
    "for item in range (LengthOfList) :\n",
    "    SumOfElements = SumOfElements + ListOfNumbers[item] \n",
    "print (\"The sum of Elements: \" , SumOfElements)\n",
    "\n",
    "''' Question 1 Finished -----------------------------------------------------------------'''\n",
    "    \n",
    "x = max (ListOfNumbers)\n",
    "print (\"The maximum number of the list is: \" , x)\n",
    "print(\"The List starting with fifth element:\" , ListOfNumbers[-5::1])\n",
    "\n",
    "\n",
    "'''Question 2 , 4 Finished ------------------------------------------------------------------'''\n",
    "\n",
    "newlist = [x for x in ListOfNumbers if x %2 ==0]\n",
    "print(\"Even Numbers In List:\" , newlist)\n",
    "    \n",
    "'''Question 3 Finished'''\n",
    "\n",
    "\n",
    "    \n",
    "    "
   ]
  },
  {
   "cell_type": "code",
   "execution_count": null,
   "id": "cb201899",
   "metadata": {},
   "outputs": [],
   "source": []
  },
  {
   "cell_type": "code",
   "execution_count": null,
   "id": "0d912dc1",
   "metadata": {},
   "outputs": [],
   "source": []
  }
 ],
 "metadata": {
  "kernelspec": {
   "display_name": "Python 3 (ipykernel)",
   "language": "python",
   "name": "python3"
  },
  "language_info": {
   "codemirror_mode": {
    "name": "ipython",
    "version": 3
   },
   "file_extension": ".py",
   "mimetype": "text/x-python",
   "name": "python",
   "nbconvert_exporter": "python",
   "pygments_lexer": "ipython3",
   "version": "3.10.9"
  }
 },
 "nbformat": 4,
 "nbformat_minor": 5
}
